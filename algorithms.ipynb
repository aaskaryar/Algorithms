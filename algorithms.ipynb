{
 "cells": [
  {
   "attachments": {},
   "cell_type": "markdown",
   "metadata": {},
   "source": [
    "This is my algorithm notebook. This is meant to be a reference for me to look back on when I need to remember how to do something. I will be adding to this as I learn new algorithms. -Aria Askaryar 7/6/2023"
   ]
  },
  {
   "attachments": {},
   "cell_type": "markdown",
   "metadata": {},
   "source": [
    "Big 0: Big O notation is used in Computer Science to describe the performance or complexity of an algorithm. Big O specifically describes the worst-case scenario, and can be used to describe the execution time required or the space used (e.g. in memory or on disk) by an algorithm.\n",
    "\n",
    "Time Complexity: How long it takes to run an algorithm. \n",
    "\n",
    "Space Complexity: How much memory it takes to run an algorithm.\n"
   ]
  },
  {
   "attachments": {},
   "cell_type": "markdown",
   "metadata": {},
   "source": [
    "Ω (Omega): The best case scenario. The lower bound of an algorithm.\n",
    "Θ (Theta): The average case scenario. The middle bound of an algorithm.\n",
    "Ο (Omicron/Big O): The worst case scenario. The upper bound of an algorithm."
   ]
  },
  {
   "cell_type": "code",
   "execution_count": null,
   "metadata": {
    "vscode": {
     "languageId": "plaintext"
    }
   },
   "outputs": [],
   "source": []
  }
 ],
 "metadata": {
  "language_info": {
   "name": "python"
  },
  "orig_nbformat": 4
 },
 "nbformat": 4,
 "nbformat_minor": 2
}
